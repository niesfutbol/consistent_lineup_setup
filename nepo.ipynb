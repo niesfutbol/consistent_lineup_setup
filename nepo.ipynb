{
 "cells": [
  {
   "cell_type": "code",
   "execution_count": 9,
   "metadata": {},
   "outputs": [
    {
     "data": {
      "text/html": [
       "\n",
       "<style>\n",
       "  #altair-viz-2eb5b687c64447bbae71cfa81324049c.vega-embed {\n",
       "    width: 100%;\n",
       "    display: flex;\n",
       "  }\n",
       "\n",
       "  #altair-viz-2eb5b687c64447bbae71cfa81324049c.vega-embed details,\n",
       "  #altair-viz-2eb5b687c64447bbae71cfa81324049c.vega-embed details summary {\n",
       "    position: relative;\n",
       "  }\n",
       "</style>\n",
       "<div id=\"altair-viz-2eb5b687c64447bbae71cfa81324049c\"></div>\n",
       "<script type=\"text/javascript\">\n",
       "  var VEGA_DEBUG = (typeof VEGA_DEBUG == \"undefined\") ? {} : VEGA_DEBUG;\n",
       "  (function(spec, embedOpt){\n",
       "    let outputDiv = document.currentScript.previousElementSibling;\n",
       "    if (outputDiv.id !== \"altair-viz-2eb5b687c64447bbae71cfa81324049c\") {\n",
       "      outputDiv = document.getElementById(\"altair-viz-2eb5b687c64447bbae71cfa81324049c\");\n",
       "    }\n",
       "    const paths = {\n",
       "      \"vega\": \"https://cdn.jsdelivr.net/npm/vega@5?noext\",\n",
       "      \"vega-lib\": \"https://cdn.jsdelivr.net/npm/vega-lib?noext\",\n",
       "      \"vega-lite\": \"https://cdn.jsdelivr.net/npm/vega-lite@5.8.0?noext\",\n",
       "      \"vega-embed\": \"https://cdn.jsdelivr.net/npm/vega-embed@6?noext\",\n",
       "    };\n",
       "\n",
       "    function maybeLoadScript(lib, version) {\n",
       "      var key = `${lib.replace(\"-\", \"\")}_version`;\n",
       "      return (VEGA_DEBUG[key] == version) ?\n",
       "        Promise.resolve(paths[lib]) :\n",
       "        new Promise(function(resolve, reject) {\n",
       "          var s = document.createElement('script');\n",
       "          document.getElementsByTagName(\"head\")[0].appendChild(s);\n",
       "          s.async = true;\n",
       "          s.onload = () => {\n",
       "            VEGA_DEBUG[key] = version;\n",
       "            return resolve(paths[lib]);\n",
       "          };\n",
       "          s.onerror = () => reject(`Error loading script: ${paths[lib]}`);\n",
       "          s.src = paths[lib];\n",
       "        });\n",
       "    }\n",
       "\n",
       "    function showError(err) {\n",
       "      outputDiv.innerHTML = `<div class=\"error\" style=\"color:red;\">${err}</div>`;\n",
       "      throw err;\n",
       "    }\n",
       "\n",
       "    function displayChart(vegaEmbed) {\n",
       "      vegaEmbed(outputDiv, spec, embedOpt)\n",
       "        .catch(err => showError(`Javascript Error: ${err.message}<br>This usually means there's a typo in your chart specification. See the javascript console for the full traceback.`));\n",
       "    }\n",
       "\n",
       "    if(typeof define === \"function\" && define.amd) {\n",
       "      requirejs.config({paths});\n",
       "      require([\"vega-embed\"], displayChart, err => showError(`Error loading script: ${err.message}`));\n",
       "    } else {\n",
       "      maybeLoadScript(\"vega\", \"5\")\n",
       "        .then(() => maybeLoadScript(\"vega-lite\", \"5.8.0\"))\n",
       "        .then(() => maybeLoadScript(\"vega-embed\", \"6\"))\n",
       "        .catch(showError)\n",
       "        .then(() => displayChart(vegaEmbed));\n",
       "    }\n",
       "  })({\"config\": {\"view\": {\"continuousWidth\": 300, \"continuousHeight\": 300, \"step\": 13, \"strokeWidth\": 0}, \"axis\": {\"domain\": false}}, \"data\": {\"name\": \"data-0b912bb7111c0c73429de47407f01479\"}, \"mark\": {\"type\": \"rect\"}, \"encoding\": {\"color\": {\"field\": \"minutes\", \"scale\": {\"scheme\": \"blues\"}, \"title\": \"Minutes\", \"type\": \"quantitative\"}, \"tooltip\": [{\"field\": \"match\", \"title\": \"Match\", \"type\": \"ordinal\"}, {\"field\": \"player\", \"title\": \"Player\", \"type\": \"ordinal\"}, {\"field\": \"minutes\", \"title\": \"Minutes\", \"type\": \"quantitative\"}], \"x\": {\"field\": \"match\", \"title\": \"Match\", \"type\": \"ordinal\"}, \"y\": {\"field\": \"player\", \"sort\": {\"field\": \"minutes\", \"op\": \"sum\", \"order\": \"descending\"}, \"title\": \"Player\", \"type\": \"ordinal\"}}, \"title\": \"Minutes Played by Player and Match\", \"$schema\": \"https://vega.github.io/schema/vega-lite/v5.8.0.json\", \"datasets\": {\"data-0b912bb7111c0c73429de47407f01479\": [{\"player\": \"a\", \"minutes\": 61, \"team\": \"team_1\", \"match\": 1}, {\"player\": \"b\", \"minutes\": 74, \"team\": \"team_1\", \"match\": 1}, {\"player\": \"c\", \"minutes\": 64, \"team\": \"team_1\", \"match\": 1}, {\"player\": \"d\", \"minutes\": 89, \"team\": \"team_1\", \"match\": 1}, {\"player\": \"e\", \"minutes\": 89, \"team\": \"team_1\", \"match\": 1}, {\"player\": \"a\", \"minutes\": 85, \"team\": \"team_1\", \"match\": 2}, {\"player\": \"b\", \"minutes\": 61, \"team\": \"team_1\", \"match\": 2}, {\"player\": \"c\", \"minutes\": 61, \"team\": \"team_1\", \"match\": 2}, {\"player\": \"d\", \"minutes\": 67, \"team\": \"team_1\", \"match\": 2}, {\"player\": \"e\", \"minutes\": 85, \"team\": \"team_1\", \"match\": 2}, {\"player\": \"a\", \"minutes\": 65, \"team\": \"team_1\", \"match\": 3}, {\"player\": \"b\", \"minutes\": 75, \"team\": \"team_1\", \"match\": 3}, {\"player\": \"c\", \"minutes\": 88, \"team\": \"team_1\", \"match\": 3}, {\"player\": \"d\", \"minutes\": 71, \"team\": \"team_1\", \"match\": 3}, {\"player\": \"e\", \"minutes\": 83, \"team\": \"team_1\", \"match\": 3}]}}, {\"mode\": \"vega-lite\"});\n",
       "</script>"
      ],
      "text/plain": [
       "alt.Chart(...)"
      ]
     },
     "metadata": {},
     "output_type": "display_data"
    }
   ],
   "source": [
    "import altair as alt\n",
    "import pandas as pd\n",
    "\n",
    "# Leer el archivo.csv en un DataFrame\n",
    "data = pd.read_csv('/home/nahuel/Descargas/consistent_team.csv')\n",
    "\n",
    "# Crear el gráfico de Altair\n",
    "chart = alt.Chart(data, title=\"Minutes Played by Player and Match\").mark_rect().encode(\n",
    "    alt.X(\"match:O\").title(\"Match\"),\n",
    "    alt.Y(\"player:O\", sort=alt.EncodingSortField(field=\"minutes\", op=\"sum\", order=\"descending\")).title(\"Player\"),\n",
    "    alt.Color(\"minutes:Q\", scale=alt.Scale(scheme='blues')).title(\"Minutes\"),\n",
    "    tooltip=[\n",
    "        alt.Tooltip(\"match:O\", title=\"Match\"),\n",
    "        alt.Tooltip(\"player:O\", title=\"Player\"),\n",
    "        alt.Tooltip(\"minutes:Q\", title=\"Minutes\"),\n",
    "    ],\n",
    ").configure_view(\n",
    "    step=13,\n",
    "    strokeWidth=0\n",
    ").configure_axis(\n",
    "    domain=False\n",
    ")\n",
    "\n",
    "# Mostrar gráfica\n",
    "display(chart)\n",
    "\n"
   ]
  }
 ],
 "metadata": {
  "kernelspec": {
   "display_name": "Python 3 (ipykernel)",
   "language": "python",
   "name": "python3"
  },
  "language_info": {
   "codemirror_mode": {
    "name": "ipython",
    "version": 3
   },
   "file_extension": ".py",
   "mimetype": "text/x-python",
   "name": "python",
   "nbconvert_exporter": "python",
   "pygments_lexer": "ipython3",
   "version": "3.8.10"
  }
 },
 "nbformat": 4,
 "nbformat_minor": 1
}
